{
 "cells": [
  {
   "cell_type": "code",
   "execution_count": null,
   "metadata": {},
   "outputs": [],
   "source": [
    "import os\n",
    "import ast\n",
    "import networkx as nx\n",
    "import matplotlib.pyplot as plt\n",
    "import pandas as pd\n",
    "\n",
    "project_path = \"..\\\\Thesis_Code\"\n",
    "os.chdir(project_path)"
   ]
  },
  {
   "cell_type": "code",
   "execution_count": null,
   "metadata": {},
   "outputs": [],
   "source": [
    "\n",
    "#csv_file_path = \"./MAPF_Framework/solver/data_exp1/maps\" + \"/simple_intersection.csv\"\n",
    "csv_file_path = \"./MAPF_Framework/solver/data_exp1/maps\" + \"/grid.csv\"\n",
    "df = pd.read_csv(csv_file_path)\n",
    "    \n",
    "G = nx.DiGraph()\n",
    "    \n",
    "positions = {}\n",
    "edges = []\n",
    "    \n",
    "for i, row in df.iterrows():\n",
    "    positions[i] = (row[\"x\"],row[\"y\"])\n",
    "            \n",
    "    ids = ast.literal_eval(row[\"neighbours\"])\n",
    "            \n",
    "    if(type(ids) is int):\n",
    "        edges.append((row[\"id\"], ids))\n",
    "    else:\n",
    "        ids_list = list(ids)\n",
    "        for el in ids_list:\n",
    "            edges.append((row[\"id\"], el))\n",
    "        \n",
    "G.add_nodes_from(positions.keys())\n",
    "G.add_edges_from(edges)\n",
    "        \n",
    "for n, p in positions.items():\n",
    "    G.nodes[n]['pos'] = p\n",
    "        \n",
    "set_node_color = [\"#808080\" for node in positions.keys()]\n",
    "        \n",
    "plt.figure(figsize=(25,25))\n",
    "plt.axis('equal')\n",
    "        \n",
    "nx.draw(G, pos=positions, with_labels=True, node_color=set_node_color, node_size=1500, font_size = 16, width = 2)\n",
    "ax = plt.gca()\n",
    "ax.collections[0].set_edgecolor(\"#000000\") # so that nodes have black edges\n",
    "        \n",
    "\n",
    "png_file_path = \"./CNN_Classifier/selector/data_exp1/maps\"\n",
    "\n",
    "            \n",
    "extension = \".pdf\"\n",
    "#f_img = \"/simple_intersection\"\n",
    "f_img = \"/grid_for_report3\"\n",
    "        \n",
    "\n",
    "        \n",
    "plt.savefig(png_file_path+f_img+extension, bbox_inches='tight', pad_inches = 0)\n",
    "plt.close()\n",
    "\n",
    "#plt.show()"
   ]
  }
 ],
 "metadata": {
  "kernelspec": {
   "display_name": "Python 3",
   "language": "python",
   "name": "python3"
  },
  "language_info": {
   "codemirror_mode": {
    "name": "ipython",
    "version": 3
   },
   "file_extension": ".py",
   "mimetype": "text/x-python",
   "name": "python",
   "nbconvert_exporter": "python",
   "pygments_lexer": "ipython3",
   "version": "3.7.2"
  }
 },
 "nbformat": 4,
 "nbformat_minor": 2
}
